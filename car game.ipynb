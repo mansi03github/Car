{
 "cells": [
  {
   "cell_type": "code",
   "execution_count": 1,
   "id": "51603edf",
   "metadata": {},
   "outputs": [
    {
     "name": "stdout",
     "output_type": "stream",
     "text": [
      "pygame 2.1.2 (SDL 2.0.18, Python 3.9.12)\n",
      "Hello from the pygame community. https://www.pygame.org/contribute.html\n"
     ]
    },
    {
     "ename": "error",
     "evalue": "display Surface quit",
     "output_type": "error",
     "traceback": [
      "\u001b[1;31m---------------------------------------------------------------------------\u001b[0m",
      "\u001b[1;31merror\u001b[0m                                     Traceback (most recent call last)",
      "Input \u001b[1;32mIn [1]\u001b[0m, in \u001b[0;36m<cell line: 81>\u001b[1;34m()\u001b[0m\n\u001b[0;32m     78\u001b[0m         pygame\u001b[38;5;241m.\u001b[39mdisplay\u001b[38;5;241m.\u001b[39mupdate()\n\u001b[0;32m     79\u001b[0m         clock\u001b[38;5;241m.\u001b[39mtick(\u001b[38;5;241m60\u001b[39m)\n\u001b[1;32m---> 81\u001b[0m \u001b[43mgameloop\u001b[49m\u001b[43m(\u001b[49m\u001b[43m)\u001b[49m\n",
      "Input \u001b[1;32mIn [1]\u001b[0m, in \u001b[0;36mgameloop\u001b[1;34m()\u001b[0m\n\u001b[0;32m     74\u001b[0m     crash(score)\n\u001b[0;32m     75\u001b[0m     time\u001b[38;5;241m.\u001b[39msleep(\u001b[38;5;241m2\u001b[39m)\n\u001b[1;32m---> 76\u001b[0m     \u001b[43mgameloop\u001b[49m\u001b[43m(\u001b[49m\u001b[43m)\u001b[49m\n\u001b[0;32m     77\u001b[0m     \u001b[38;5;28;01mbreak\u001b[39;00m\n\u001b[0;32m     78\u001b[0m pygame\u001b[38;5;241m.\u001b[39mdisplay\u001b[38;5;241m.\u001b[39mupdate()\n",
      "Input \u001b[1;32mIn [1]\u001b[0m, in \u001b[0;36mgameloop\u001b[1;34m()\u001b[0m\n\u001b[0;32m     74\u001b[0m     crash(score)\n\u001b[0;32m     75\u001b[0m     time\u001b[38;5;241m.\u001b[39msleep(\u001b[38;5;241m2\u001b[39m)\n\u001b[1;32m---> 76\u001b[0m     \u001b[43mgameloop\u001b[49m\u001b[43m(\u001b[49m\u001b[43m)\u001b[49m\n\u001b[0;32m     77\u001b[0m     \u001b[38;5;28;01mbreak\u001b[39;00m\n\u001b[0;32m     78\u001b[0m pygame\u001b[38;5;241m.\u001b[39mdisplay\u001b[38;5;241m.\u001b[39mupdate()\n",
      "    \u001b[1;31m[... skipping similar frames: gameloop at line 76 (4 times)]\u001b[0m\n",
      "Input \u001b[1;32mIn [1]\u001b[0m, in \u001b[0;36mgameloop\u001b[1;34m()\u001b[0m\n\u001b[0;32m     74\u001b[0m     crash(score)\n\u001b[0;32m     75\u001b[0m     time\u001b[38;5;241m.\u001b[39msleep(\u001b[38;5;241m2\u001b[39m)\n\u001b[1;32m---> 76\u001b[0m     \u001b[43mgameloop\u001b[49m\u001b[43m(\u001b[49m\u001b[43m)\u001b[49m\n\u001b[0;32m     77\u001b[0m     \u001b[38;5;28;01mbreak\u001b[39;00m\n\u001b[0;32m     78\u001b[0m pygame\u001b[38;5;241m.\u001b[39mdisplay\u001b[38;5;241m.\u001b[39mupdate()\n",
      "Input \u001b[1;32mIn [1]\u001b[0m, in \u001b[0;36mgameloop\u001b[1;34m()\u001b[0m\n\u001b[0;32m     59\u001b[0m         \u001b[38;5;28;01mif\u001b[39;00m event\u001b[38;5;241m.\u001b[39mkey\u001b[38;5;241m==\u001b[39mpygame\u001b[38;5;241m.\u001b[39mK_DOWN:\n\u001b[0;32m     60\u001b[0m             y\u001b[38;5;241m+\u001b[39m\u001b[38;5;241m=\u001b[39m\u001b[38;5;241m5\u001b[39m\u001b[38;5;241m+\u001b[39mobject_add\u001b[38;5;241m*\u001b[39m\u001b[38;5;241m5\u001b[39m\n\u001b[1;32m---> 61\u001b[0m \u001b[43mgame\u001b[49m\u001b[38;5;241;43m.\u001b[39;49m\u001b[43mfill\u001b[49m\u001b[43m(\u001b[49m\u001b[43mwhite\u001b[49m\u001b[43m)\u001b[49m\n\u001b[0;32m     62\u001b[0m game\u001b[38;5;241m.\u001b[39mblit(pimg,(\u001b[38;5;241m0\u001b[39m,\u001b[38;5;241m0\u001b[39m))\n\u001b[0;32m     63\u001b[0m \u001b[38;5;28;01mif\u001b[39;00m object_y\u001b[38;5;241m<\u001b[39m\u001b[38;5;241m=\u001b[39mdy:\n",
      "\u001b[1;31merror\u001b[0m: display Surface quit"
     ]
    }
   ],
   "source": [
    "import pygame\n",
    "import random\n",
    "import time\n",
    "pygame.init()\n",
    "dx=500\n",
    "dy=500\n",
    "game=pygame.display.set_mode((dx,dy))\n",
    "pygame.display.set_caption(\"new game\")\n",
    "clock=pygame.time.Clock()\n",
    "white=(255,120,155)\n",
    "pimg=pygame.image.load(\"road.jpg\")\n",
    "img=pygame.image.load(\"racecar.png\")\n",
    "x=dx//2\n",
    "y=dy-100\n",
    "\n",
    "def objects(x,y):\n",
    "    #pygame.draw.arc(game,(255,255,255),(x,y,x+50,y+50),0,3.14,70)\n",
    "    pygame.draw.circle(game,(255,255,255),(x,y),30)\n",
    "##    pygame.draw.ellipse(game,(255,100,200),(x-100,y-20,x,y))\n",
    "##    pygame.draw.polygon(game,(180,100,20),((300,10),(400,10),(400,90)))\n",
    "##    pygame.draw.rect(game,(30,40,50),(300,100,400,200))\n",
    "def  car(hx,hy):\n",
    "    game.blit(img,(hx,hy))\n",
    "def comment(score):\n",
    "    font=pygame.sysfont.SysFont(\"times\",20,bold=True)\n",
    "    text=font.render(\"SCORE:\"+str(score),True,(255,255,255))\n",
    "    game.blit(text,(0,0))\n",
    "    \n",
    "def crash(score):\n",
    "    a=pygame.mixer.music.load(\"crash.mp3\")\n",
    "    pygame.mixer.music.play()\n",
    "    font=pygame.sysfont.SysFont(\"times\",40,bold=True)\n",
    "    text=font.render(\"CRASHED final score:\"+str(score),True,(255,255,255))\n",
    "    game.blit(text,(10,250))\n",
    "    pygame.display.update()\n",
    "    \n",
    "\n",
    "\n",
    "def gameloop():\n",
    "    a=pygame.mixer.music.load(\"doom.mp3\")\n",
    "    pygame.mixer.music.play()\n",
    "    x=dx//2\n",
    "    y=dy-100\n",
    "    object_x=random.randrange(0,dx)\n",
    "    object_y=0\n",
    "    object_add=2\n",
    "    score=0\n",
    "    while 1:\n",
    "        for event in pygame.event.get():\n",
    "            if event.type==pygame.QUIT:\n",
    "                pygame.quit()\n",
    "            elif event.type==pygame.KEYDOWN:\n",
    "                if (event.key==pygame.K_LEFT) and (x>-20):\n",
    "                    x-=25+object_add*5\n",
    "                if (event.key==pygame.K_RIGHT) and(x<390):\n",
    "                    x+=25+object_add*5\n",
    "                if event.key==pygame.K_UP:\n",
    "                    y-=5+object_add*5\n",
    "                if event.key==pygame.K_DOWN:\n",
    "                    y+=5+object_add*5\n",
    "        game.fill(white)\n",
    "        game.blit(pimg,(0,0))\n",
    "        if object_y<=dy:\n",
    "            object_y+=object_add\n",
    "        else:\n",
    "            object_x=random.randrange(0,dx)\n",
    "            object_y=0\n",
    "            score+=object_add\n",
    "            object_add=random.randrange(1,20)\n",
    "        objects(object_x,object_y)\n",
    "        car(x,y)\n",
    "        comment(score)\n",
    "        if (object_x in range(x-25,x+158)) and (object_y in range(y-40,y+158)):\n",
    "            crash(score)\n",
    "            time.sleep(2)\n",
    "            gameloop()\n",
    "            break\n",
    "        pygame.display.update()\n",
    "        clock.tick(60)\n",
    "    \n",
    "gameloop()\n"
   ]
  },
  {
   "cell_type": "code",
   "execution_count": null,
   "id": "b59bbd79",
   "metadata": {},
   "outputs": [],
   "source": []
  }
 ],
 "metadata": {
  "kernelspec": {
   "display_name": "Python 3 (ipykernel)",
   "language": "python",
   "name": "python3"
  },
  "language_info": {
   "codemirror_mode": {
    "name": "ipython",
    "version": 3
   },
   "file_extension": ".py",
   "mimetype": "text/x-python",
   "name": "python",
   "nbconvert_exporter": "python",
   "pygments_lexer": "ipython3",
   "version": "3.9.12"
  }
 },
 "nbformat": 4,
 "nbformat_minor": 5
}
